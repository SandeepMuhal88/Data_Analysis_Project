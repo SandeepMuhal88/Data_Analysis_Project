{
 "cells": [
  {
   "cell_type": "code",
   "execution_count": 10,
   "id": "62d8c080",
   "metadata": {},
   "outputs": [],
   "source": [
    "import numpy as np\n",
    "# %pip install matplotlib scipy\n",
    "import matplotlib.pyplot as plt\n",
    "from scipy.stats import norm\n",
    "from scipy.integrate import quad\n",
    "from scipy.optimize import minimize_scalar"
   ]
  },
  {
   "cell_type": "markdown",
   "id": "57db7d8e",
   "metadata": {},
   "source": [
    "Data Preprocessing "
   ]
  },
  {
   "cell_type": "code",
   "execution_count": 12,
   "id": "00589401",
   "metadata": {},
   "outputs": [
    {
     "name": "stderr",
     "output_type": "stream",
     "text": [
      "d:\\Programming\\Data_Analysis_Project\\.venv\\Lib\\site-packages\\tqdm\\auto.py:21: TqdmWarning: IProgress not found. Please update jupyter and ipywidgets. See https://ipywidgets.readthedocs.io/en/stable/user_install.html\n",
      "  from .autonotebook import tqdm as notebook_tqdm\n"
     ]
    },
    {
     "name": "stdout",
     "output_type": "stream",
     "text": [
      "Downloading from https://www.kaggle.com/api/v1/datasets/download/khushikyad001/indian-traffic-violation?dataset_version_number=1...\n"
     ]
    },
    {
     "name": "stderr",
     "output_type": "stream",
     "text": [
      "100%|██████████| 164k/164k [00:00<00:00, 197kB/s]"
     ]
    },
    {
     "name": "stdout",
     "output_type": "stream",
     "text": [
      "Extracting files...\n",
      "Path to dataset files: C:\\Users\\sande\\.cache\\kagglehub\\datasets\\khushikyad001\\indian-traffic-violation\\versions\\1\n"
     ]
    },
    {
     "name": "stderr",
     "output_type": "stream",
     "text": [
      "\n"
     ]
    }
   ],
   "source": [
    "import kagglehub\n",
    "\n",
    "# Download latest version\n",
    "path = kagglehub.dataset_download(\"khushikyad001/indian-traffic-violation\")\n",
    "\n",
    "print(\"Path to dataset files:\", path)"
   ]
  },
  {
   "cell_type": "markdown",
   "id": "9bd023b7",
   "metadata": {},
   "source": [
    "Read Data in df"
   ]
  },
  {
   "cell_type": "code",
   "execution_count": 14,
   "id": "91ab1d9c",
   "metadata": {},
   "outputs": [
    {
     "data": {
      "application/vnd.microsoft.datawrangler.viewer.v0+json": {
       "columns": [
        {
         "name": "index",
         "rawType": "int64",
         "type": "integer"
        },
        {
         "name": "Violation_ID",
         "rawType": "object",
         "type": "string"
        },
        {
         "name": "Violation_Type",
         "rawType": "object",
         "type": "string"
        },
        {
         "name": "Fine_Amount",
         "rawType": "int64",
         "type": "integer"
        },
        {
         "name": "Location",
         "rawType": "object",
         "type": "string"
        },
        {
         "name": "Date",
         "rawType": "object",
         "type": "string"
        },
        {
         "name": "Time",
         "rawType": "object",
         "type": "string"
        },
        {
         "name": "Vehicle_Type",
         "rawType": "object",
         "type": "string"
        },
        {
         "name": "Vehicle_Color",
         "rawType": "object",
         "type": "string"
        },
        {
         "name": "Vehicle_Model_Year",
         "rawType": "int64",
         "type": "integer"
        },
        {
         "name": "Registration_State",
         "rawType": "object",
         "type": "string"
        },
        {
         "name": "Driver_Age",
         "rawType": "int64",
         "type": "integer"
        },
        {
         "name": "Driver_Gender",
         "rawType": "object",
         "type": "string"
        },
        {
         "name": "License_Type",
         "rawType": "object",
         "type": "string"
        },
        {
         "name": "Penalty_Points",
         "rawType": "int64",
         "type": "integer"
        },
        {
         "name": "Weather_Condition",
         "rawType": "object",
         "type": "string"
        },
        {
         "name": "Road_Condition",
         "rawType": "object",
         "type": "string"
        },
        {
         "name": "Officer_ID",
         "rawType": "object",
         "type": "string"
        },
        {
         "name": "Issuing_Agency",
         "rawType": "object",
         "type": "string"
        },
        {
         "name": "License_Validity",
         "rawType": "object",
         "type": "string"
        },
        {
         "name": "Number_of_Passengers",
         "rawType": "int64",
         "type": "integer"
        },
        {
         "name": "Helmet_Worn",
         "rawType": "object",
         "type": "unknown"
        },
        {
         "name": "Seatbelt_Worn",
         "rawType": "object",
         "type": "string"
        },
        {
         "name": "Traffic_Light_Status",
         "rawType": "object",
         "type": "string"
        },
        {
         "name": "Speed_Limit",
         "rawType": "int64",
         "type": "integer"
        },
        {
         "name": "Recorded_Speed",
         "rawType": "int64",
         "type": "integer"
        },
        {
         "name": "Alcohol_Level",
         "rawType": "float64",
         "type": "float"
        },
        {
         "name": "Breathalyzer_Result",
         "rawType": "object",
         "type": "string"
        },
        {
         "name": "Towed",
         "rawType": "object",
         "type": "string"
        },
        {
         "name": "Fine_Paid",
         "rawType": "object",
         "type": "string"
        },
        {
         "name": "Payment_Method",
         "rawType": "object",
         "type": "string"
        },
        {
         "name": "Court_Appearance_Required",
         "rawType": "object",
         "type": "string"
        },
        {
         "name": "Previous_Violations",
         "rawType": "int64",
         "type": "integer"
        },
        {
         "name": "Comments",
         "rawType": "object",
         "type": "unknown"
        }
       ],
       "ref": "efcdc90e-f726-461f-8565-92c848266127",
       "rows": [
        [
         "0",
         "VLT100000",
         "Overloading",
         "4544",
         "Karnataka",
         "2023-01-01",
         "23:02",
         "Car",
         "Red",
         "2012",
         "West Bengal",
         "25",
         "Male",
         "Commercial",
         "5",
         "Cloudy",
         "Slippery",
         "OFF9971",
         "Local Police",
         "Valid",
         "4",
         null,
         "Yes",
         "Green",
         "100",
         "95",
         "0.03",
         "Negative",
         "Yes",
         "No",
         "Online",
         "Yes",
         "3",
         "Repeat Offender"
        ],
        [
         "1",
         "VLT100001",
         "Driving Without License",
         "2776",
         "Punjab",
         "2023-01-02",
         "00:42",
         "Scooter",
         "Silver",
         "2010",
         "Tamil Nadu",
         "32",
         "Female",
         "Commercial",
         "4",
         "Rainy",
         "Dry",
         "OFF6000",
         "Highway Patrol",
         "Valid",
         "4",
         null,
         "No",
         "Green",
         "40",
         "48",
         "0.45",
         "Negative",
         "Yes",
         "Yes",
         "Online",
         "No",
         "2",
         "Repeat Offender"
        ],
        [
         "2",
         "VLT100002",
         "Using Mobile Phone",
         "4785",
         "Maharashtra",
         "2023-01-03",
         "04:32",
         "Scooter",
         "Grey",
         "2006",
         "Tamil Nadu",
         "67",
         "Female",
         "Two-Wheeler",
         "8",
         "Clear",
         "Potholes",
         "OFF5706",
         "Local Police",
         "Valid",
         "5",
         "Yes",
         "Yes",
         "Yellow",
         "80",
         "26",
         "0.31",
         "Not Conducted",
         "No",
         "No",
         "Not Paid",
         "Yes",
         "4",
         null
        ],
        [
         "3",
         "VLT100003",
         "No Seatbelt",
         "1138",
         "Uttar Pradesh",
         "2023-01-04",
         "15:06",
         "Car",
         "Green",
         "1996",
         "Uttar Pradesh",
         "46",
         "Male",
         "Learner",
         "3",
         "Rainy",
         "Wet",
         "OFF5575",
         "Highway Patrol",
         "Valid",
         "2",
         "No",
         "No",
         "Green",
         "100",
         "115",
         "0.09",
         "Not Conducted",
         "No",
         "Yes",
         "Online",
         "No",
         "5",
         "Repeat Offender"
        ],
        [
         "4",
         "VLT100004",
         "Over-speeding",
         "1610",
         "Karnataka",
         "2023-01-05",
         "06:57",
         "Truck",
         "Yellow",
         "2016",
         "Delhi",
         "63",
         "Female",
         "Four-Wheeler",
         "4",
         "Foggy",
         "Potholes",
         "OFF7147",
         "Traffic Police",
         "Valid",
         "4",
         null,
         "No",
         "Red",
         "30",
         "115",
         "0.28",
         "Positive",
         "No",
         "Yes",
         "Cash",
         "Yes",
         "0",
         null
        ]
       ],
       "shape": {
        "columns": 33,
        "rows": 5
       }
      },
      "text/html": [
       "<div>\n",
       "<style scoped>\n",
       "    .dataframe tbody tr th:only-of-type {\n",
       "        vertical-align: middle;\n",
       "    }\n",
       "\n",
       "    .dataframe tbody tr th {\n",
       "        vertical-align: top;\n",
       "    }\n",
       "\n",
       "    .dataframe thead th {\n",
       "        text-align: right;\n",
       "    }\n",
       "</style>\n",
       "<table border=\"1\" class=\"dataframe\">\n",
       "  <thead>\n",
       "    <tr style=\"text-align: right;\">\n",
       "      <th></th>\n",
       "      <th>Violation_ID</th>\n",
       "      <th>Violation_Type</th>\n",
       "      <th>Fine_Amount</th>\n",
       "      <th>Location</th>\n",
       "      <th>Date</th>\n",
       "      <th>Time</th>\n",
       "      <th>Vehicle_Type</th>\n",
       "      <th>Vehicle_Color</th>\n",
       "      <th>Vehicle_Model_Year</th>\n",
       "      <th>Registration_State</th>\n",
       "      <th>...</th>\n",
       "      <th>Speed_Limit</th>\n",
       "      <th>Recorded_Speed</th>\n",
       "      <th>Alcohol_Level</th>\n",
       "      <th>Breathalyzer_Result</th>\n",
       "      <th>Towed</th>\n",
       "      <th>Fine_Paid</th>\n",
       "      <th>Payment_Method</th>\n",
       "      <th>Court_Appearance_Required</th>\n",
       "      <th>Previous_Violations</th>\n",
       "      <th>Comments</th>\n",
       "    </tr>\n",
       "  </thead>\n",
       "  <tbody>\n",
       "    <tr>\n",
       "      <th>0</th>\n",
       "      <td>VLT100000</td>\n",
       "      <td>Overloading</td>\n",
       "      <td>4544</td>\n",
       "      <td>Karnataka</td>\n",
       "      <td>2023-01-01</td>\n",
       "      <td>23:02</td>\n",
       "      <td>Car</td>\n",
       "      <td>Red</td>\n",
       "      <td>2012</td>\n",
       "      <td>West Bengal</td>\n",
       "      <td>...</td>\n",
       "      <td>100</td>\n",
       "      <td>95</td>\n",
       "      <td>0.03</td>\n",
       "      <td>Negative</td>\n",
       "      <td>Yes</td>\n",
       "      <td>No</td>\n",
       "      <td>Online</td>\n",
       "      <td>Yes</td>\n",
       "      <td>3</td>\n",
       "      <td>Repeat Offender</td>\n",
       "    </tr>\n",
       "    <tr>\n",
       "      <th>1</th>\n",
       "      <td>VLT100001</td>\n",
       "      <td>Driving Without License</td>\n",
       "      <td>2776</td>\n",
       "      <td>Punjab</td>\n",
       "      <td>2023-01-02</td>\n",
       "      <td>00:42</td>\n",
       "      <td>Scooter</td>\n",
       "      <td>Silver</td>\n",
       "      <td>2010</td>\n",
       "      <td>Tamil Nadu</td>\n",
       "      <td>...</td>\n",
       "      <td>40</td>\n",
       "      <td>48</td>\n",
       "      <td>0.45</td>\n",
       "      <td>Negative</td>\n",
       "      <td>Yes</td>\n",
       "      <td>Yes</td>\n",
       "      <td>Online</td>\n",
       "      <td>No</td>\n",
       "      <td>2</td>\n",
       "      <td>Repeat Offender</td>\n",
       "    </tr>\n",
       "    <tr>\n",
       "      <th>2</th>\n",
       "      <td>VLT100002</td>\n",
       "      <td>Using Mobile Phone</td>\n",
       "      <td>4785</td>\n",
       "      <td>Maharashtra</td>\n",
       "      <td>2023-01-03</td>\n",
       "      <td>04:32</td>\n",
       "      <td>Scooter</td>\n",
       "      <td>Grey</td>\n",
       "      <td>2006</td>\n",
       "      <td>Tamil Nadu</td>\n",
       "      <td>...</td>\n",
       "      <td>80</td>\n",
       "      <td>26</td>\n",
       "      <td>0.31</td>\n",
       "      <td>Not Conducted</td>\n",
       "      <td>No</td>\n",
       "      <td>No</td>\n",
       "      <td>Not Paid</td>\n",
       "      <td>Yes</td>\n",
       "      <td>4</td>\n",
       "      <td>NaN</td>\n",
       "    </tr>\n",
       "    <tr>\n",
       "      <th>3</th>\n",
       "      <td>VLT100003</td>\n",
       "      <td>No Seatbelt</td>\n",
       "      <td>1138</td>\n",
       "      <td>Uttar Pradesh</td>\n",
       "      <td>2023-01-04</td>\n",
       "      <td>15:06</td>\n",
       "      <td>Car</td>\n",
       "      <td>Green</td>\n",
       "      <td>1996</td>\n",
       "      <td>Uttar Pradesh</td>\n",
       "      <td>...</td>\n",
       "      <td>100</td>\n",
       "      <td>115</td>\n",
       "      <td>0.09</td>\n",
       "      <td>Not Conducted</td>\n",
       "      <td>No</td>\n",
       "      <td>Yes</td>\n",
       "      <td>Online</td>\n",
       "      <td>No</td>\n",
       "      <td>5</td>\n",
       "      <td>Repeat Offender</td>\n",
       "    </tr>\n",
       "    <tr>\n",
       "      <th>4</th>\n",
       "      <td>VLT100004</td>\n",
       "      <td>Over-speeding</td>\n",
       "      <td>1610</td>\n",
       "      <td>Karnataka</td>\n",
       "      <td>2023-01-05</td>\n",
       "      <td>06:57</td>\n",
       "      <td>Truck</td>\n",
       "      <td>Yellow</td>\n",
       "      <td>2016</td>\n",
       "      <td>Delhi</td>\n",
       "      <td>...</td>\n",
       "      <td>30</td>\n",
       "      <td>115</td>\n",
       "      <td>0.28</td>\n",
       "      <td>Positive</td>\n",
       "      <td>No</td>\n",
       "      <td>Yes</td>\n",
       "      <td>Cash</td>\n",
       "      <td>Yes</td>\n",
       "      <td>0</td>\n",
       "      <td>NaN</td>\n",
       "    </tr>\n",
       "  </tbody>\n",
       "</table>\n",
       "<p>5 rows × 33 columns</p>\n",
       "</div>"
      ],
      "text/plain": [
       "  Violation_ID           Violation_Type  Fine_Amount       Location  \\\n",
       "0    VLT100000              Overloading         4544      Karnataka   \n",
       "1    VLT100001  Driving Without License         2776         Punjab   \n",
       "2    VLT100002       Using Mobile Phone         4785    Maharashtra   \n",
       "3    VLT100003              No Seatbelt         1138  Uttar Pradesh   \n",
       "4    VLT100004            Over-speeding         1610      Karnataka   \n",
       "\n",
       "         Date   Time Vehicle_Type Vehicle_Color  Vehicle_Model_Year  \\\n",
       "0  2023-01-01  23:02          Car           Red                2012   \n",
       "1  2023-01-02  00:42      Scooter        Silver                2010   \n",
       "2  2023-01-03  04:32      Scooter          Grey                2006   \n",
       "3  2023-01-04  15:06          Car         Green                1996   \n",
       "4  2023-01-05  06:57        Truck        Yellow                2016   \n",
       "\n",
       "  Registration_State  ...  Speed_Limit Recorded_Speed Alcohol_Level  \\\n",
       "0        West Bengal  ...          100             95          0.03   \n",
       "1         Tamil Nadu  ...           40             48          0.45   \n",
       "2         Tamil Nadu  ...           80             26          0.31   \n",
       "3      Uttar Pradesh  ...          100            115          0.09   \n",
       "4              Delhi  ...           30            115          0.28   \n",
       "\n",
       "   Breathalyzer_Result Towed Fine_Paid Payment_Method  \\\n",
       "0             Negative   Yes        No         Online   \n",
       "1             Negative   Yes       Yes         Online   \n",
       "2        Not Conducted    No        No       Not Paid   \n",
       "3        Not Conducted    No       Yes         Online   \n",
       "4             Positive    No       Yes           Cash   \n",
       "\n",
       "  Court_Appearance_Required Previous_Violations         Comments  \n",
       "0                       Yes                   3  Repeat Offender  \n",
       "1                        No                   2  Repeat Offender  \n",
       "2                       Yes                   4              NaN  \n",
       "3                        No                   5  Repeat Offender  \n",
       "4                       Yes                   0              NaN  \n",
       "\n",
       "[5 rows x 33 columns]"
      ]
     },
     "execution_count": 14,
     "metadata": {},
     "output_type": "execute_result"
    }
   ],
   "source": [
    "# %pip install pandas\n",
    "import pandas as pd\n",
    "df=pd.read_csv(path + '/Indian_traffic_violations.csv')\n",
    "df.head()"
   ]
  }
 ],
 "metadata": {
  "kernelspec": {
   "display_name": ".venv (3.11.9)",
   "language": "python",
   "name": "python3"
  },
  "language_info": {
   "codemirror_mode": {
    "name": "ipython",
    "version": 3
   },
   "file_extension": ".py",
   "mimetype": "text/x-python",
   "name": "python",
   "nbconvert_exporter": "python",
   "pygments_lexer": "ipython3",
   "version": "3.11.9"
  }
 },
 "nbformat": 4,
 "nbformat_minor": 5
}
