{
 "cells": [
  {
   "cell_type": "markdown",
   "metadata": {},
   "source": [
    "<h1>Qution to solve in data on data"
   ]
  },
  {
   "cell_type": "markdown",
   "metadata": {},
   "source": [
    "01. What type of restaurant do the majority of customers order from?\n",
    "02. How many vote has each type of restaurant recevied from customers?\n",
    "03. What are the ratings that the majority of restaurant have recevied?\n",
    "04. Zomato has observed that most couples order most of their food online. What is their average spending on each order?\n",
    "05. Which Mode (Online & Offline) has received the maximum rating?\n",
    "06. Which type of restaurant recevied more offline orders, so that zomato can   customer with some good offers?"
   ]
  }
 ],
 "metadata": {
  "language_info": {
   "name": "python"
  }
 },
 "nbformat": 4,
 "nbformat_minor": 2
}
